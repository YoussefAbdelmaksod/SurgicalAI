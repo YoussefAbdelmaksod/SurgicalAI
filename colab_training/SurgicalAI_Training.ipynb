{
  "cells": [
    {
      "cell_type": "markdown",
      "metadata": {},
      "source": [
        "# SurgicalAI Training Notebook\n",
        "\n",
        "This notebook trains all components of the SurgicalAI system:\n",
        "1. Tool Detection\n",
        "2. Phase Recognition\n",
        "3. Mistake Detection\n",
        "\n",
        "Each section can be run independently."
      ]
    },
    {
      "cell_type": "code",
      "execution_count": null,
      "metadata": {},
      "source": [
        "# Setup environment and mount Google Drive\n",
        "from google.colab import drive\n",
        "drive.mount('/content/drive')\n",
        "\n",
        "# Create a directory to store our weights\n",
        "!mkdir -p /content/drive/MyDrive/SurgicalAI/weights\n",
        "\n",
        "# Clone the repository\n",
        "!git clone https://github.com/YOUR_USERNAME/SurgicalAI\n",
        "%cd SurgicalAI\n",
        "\n",
        "# Install dependencies\n",
        "!pip install -r requirements.txt\n",
        "!pip install torch torchvision --extra-index-url https://download.pytorch.org/whl/cu118"
      ]
    },
    {
      "cell_type": "markdown",
      "metadata": {},
      "source": [
        "## Upload Training Data\n",
        "\n",
        "Upload your training data or copy from Drive if already uploaded."
      ]
    },
    {
      "cell_type": "code",
      "execution_count": null,
      "metadata": {},
      "source": [
        "# Option 1: Upload data directly to this Colab session\n",
        "# from google.colab import files\n",
        "# uploaded = files.upload()  # Upload annotation files\n",
        "\n",
        "# Option 2: Copy from Google Drive if already uploaded\n",
        "!mkdir -p data/annotations\n",
        "!mkdir -p data/train_processed\n",
        "!mkdir -p data/phases\n",
        "\n",
        "# Copy your data from Drive (uncomment and modify paths as needed)\n",
        "# !cp /content/drive/MyDrive/SurgicalAI/data/annotations/* data/annotations/\n",
        "# !cp -r /content/drive/MyDrive/SurgicalAI/data/train_processed/* data/train_processed/\n",
        "# !cp -r /content/drive/MyDrive/SurgicalAI/data/phases/* data/phases/"
      ]
    },
    {
      "cell_type": "markdown",
      "metadata": {},
      "source": [
        "## 1. Tool Detection Training"
      ]
    },
    {
      "cell_type": "code",
      "execution_count": null,
      "metadata": {},
      "source": [
        "# Train the tool detection model\n",
        "!python training/train_tool_detection.py \\\n",
        "  --data_dir data \\\n",
        "  --output_dir models/weights \\\n",
        "  --batch_size 4 \\\n",
        "  --num_epochs 20 \\\n",
        "  --learning_rate 3e-4 \\\n",
        "  --backbone resnet50 \\\n",
        "  --use_mixed_precision True\n",
        "\n",
        "# Save the trained model to Drive\n",
        "!cp models/weights/tool_detection/tool_detection.pth /content/drive/MyDrive/SurgicalAI/weights/"
      ]
    },
    {
      "cell_type": "markdown",
      "metadata": {},
      "source": [
        "## 2. Phase Recognition Training"
      ]
    },
    {
      "cell_type": "code",
      "execution_count": null,
      "metadata": {},
      "source": [
        "# Train the phase recognition model\n",
        "!python training/train_phase_recognition.py \\\n",
        "  --data_dir data \\\n",
        "  --output_dir models/weights/vit_lstm \\\n",
        "  --batch_size 2 \\\n",
        "  --num_epochs 15 \\\n",
        "  --vit_model vit_base_patch16_224 \\\n",
        "  --freeze_vit True\n",
        "\n",
        "# Save the trained model to Drive\n",
        "!cp models/weights/vit_lstm/phase_recognition.pth /content/drive/MyDrive/SurgicalAI/weights/"
      ]
    },
    {
      "cell_type": "markdown",
      "metadata": {},
      "source": [
        "## 3. Mistake Detection Training"
      ]
    },
    {
      "cell_type": "code",
      "execution_count": null,
      "metadata": {},
      "source": [
        "# Train the mistake detection model\n",
        "!python training/train_all_models.py \\\n",
        "  --train_subset mistake_detection \\\n",
        "  --data_dir data \\\n",
        "  --output_dir models/weights \\\n",
        "  --batch_size 4 \\\n",
        "  --num_epochs 10\n",
        "\n",
        "# Save the trained model to Drive\n",
        "!cp models/weights/mistake_detector/mistake_detection.pth /content/drive/MyDrive/SurgicalAI/weights/"
      ]
    },
    {
      "cell_type": "markdown",
      "metadata": {},
      "source": [
        "## Verify and Download Models\n",
        "\n",
        "Check that all models are trained and saved."
      ]
    },
    {
      "cell_type": "code",
      "execution_count": null,
      "metadata": {},
      "source": [
        "# List saved models in Drive\n",
        "!ls -la /content/drive/MyDrive/SurgicalAI/weights/\n",
        "\n",
        "# Download models directly from Colab if needed\n",
        "from google.colab import files\n",
        "\n",
        "# Uncomment to download specific models\n",
        "# files.download('/content/drive/MyDrive/SurgicalAI/weights/tool_detection.pth')\n",
        "# files.download('/content/drive/MyDrive/SurgicalAI/weights/phase_recognition.pth')\n",
        "# files.download('/content/drive/MyDrive/SurgicalAI/weights/mistake_detection.pth')"
      ]
    }
  ],
  "metadata": {
    "accelerator": "GPU",
    "colab": {
      "gpuType": "T4",
      "provenance": []
    },
    "kernelspec": {
      "display_name": "Python 3",
      "name": "python3"
    },
    "language_info": {
      "name": "python"
    }
  },
  "nbformat": 4,
  "nbformat_minor": 0
}